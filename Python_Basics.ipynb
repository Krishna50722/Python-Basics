{
  "cells": [
    {
      "cell_type": "markdown",
      "source": [
        " Python Basics"
      ],
      "metadata": {
        "id": "Cmqax0PCO5Gv"
      }
    },
    {
      "cell_type": "markdown",
      "source": [
        "1. What is Python, and why is it popular?\n",
        "   >> Python is an interpreted, high-level programming language that is simple and easy to read. It is widely used because of its simple syntax, flexibility, and vast libraries, making it suitable for web development, data analysis, artificial intelligence, automation, and many more. Its popularity stems from its extensive community and versatility of applications.\n",
        "\n",
        "\n",
        "2. What is an interpreter in Python?\n",
        "   >> An interpreter in Python is a program running on a computer that executes Python code line by line and interprets it into machine code. It allows for immediate code execution, and therefore Python is an interpreted language.\n",
        "\n",
        "\n",
        "3.  What are pre-defined keywords in Python?\n",
        "  >> In Python, predefined keywords are reserved words that carry specific meanings and are utilized to specify the syntax and structure of the language. These keywords cannot be used as variable names. Some of the prominent examples are \\\"if\\\", \\\"else\\\", \\\"while\\\", \\\"for\\\", \\\"def\\\", \\\"class\\\", \\\"import\\\", \\\"True\\\", \\\"False\\\", \\\"None\\\", and \\\"return\\\". These keywords manage control flow, specify functions, manage exceptions, and do a lot more.\n",
        "\n",
        "\n",
        "4.  Can keywords be used as variable names?\n",
        "\n",
        "   >> No, keywords cannot be used as variable names in Python. They are reserved words with special meanings that define the languages syntax and structure. Using them as variable names will result in a syntax error.\n",
        "\n",
        "\n",
        "5. What is mutability in Python?\n",
        "\n",
        "   >> Mutability in Python refers to whether an objects value can be changed after creation. Mutable objects (e.g., lists, dictionaries, sets) can be modified, while immutable objects (e.g., strings, tuples, integers) cannot be altered once created.\n",
        "\n",
        "6. Why are lists mutable, but tuples are immutable?\n",
        "\n",
        "   >> Lists are mutable because they are designed for dynamic data, allowing modifications like adding, removing, or changing elements. Tuples are immutable to ensure data integrity and allow for hashable keys in dictionaries, making them more memory-efficient and faster.\n",
        "\n",
        "7.  What is the difference between “==” and “is” operators in Python?\n",
        "\n",
        "   >>  The \\\"==\\\" operator checks if values of two objects are equal, while the \\\"is\\\" operator checks if they refer to the same memory location (identity).\n",
        "\n",
        "8.  What are logical operators in Python?\n",
        "\n",
        "    >>  Logical operators in Python are used to combine conditional statements. They include:\n",
        "    - **and**: Returns 'True' if both conditions are true.\n",
        "    - **or**: Returns 'True' if at least one condition is true.  \n",
        "    - **not**: Returns 'True' if the condition is false, and vice versa.  \n",
        "    These operators are commonly used in decision-making and control flow.\n",
        "\n",
        "9.  What is type casting in Python?\n",
        "\n",
        "   >> Type casting in Python is the process of converting one data type into another. It can be done using functions like int(), float(), str(), list(), and tuple(). For example, int(\\\"10\\\") converts the string \\\"10\\\" into an integer.\"\n",
        "\n",
        "10. What is the difference between implicit and explicit type casting?\n",
        "   \n",
        "   >> Implicit type casting is done automatically by Python, where it converts a smaller data type to a larger one (e.g., int to float) to avoid data loss.\n",
        "    \"Explicit type casting is manually done by the programmer using functions like int(), float(), or str() to convert between data types.\n",
        "\n",
        "11.  What is the purpose of conditional statements in Python?\n",
        "\n",
        "   >> Conditional statements in Python are used to execute specific code blocks based on whether a condition is true or false. They control the flow of the program using if, elif, and else statements.\n",
        "\n",
        "12.  How does the elif statement work?\n",
        "\n",
        "   >> The elif statement in Python is used to check multiple conditions after an if statement. If the if condition is False, Python checks the elif condition. If it’s True, the corresponding block executes. Multiple elif statements can be used, and an optional else can handle cases when none are True.\n",
        "\n",
        "13.  What is the difference between for and while loops?\n",
        "\n",
        "   >>  A **for loop** is used for iterating over a sequence (e.g., list, tuple, string) and runs a fixed number of times.\n",
        "    \"A **while loop** executes as long as a condition is true, making it suitable for indeterminate iterations.\n",
        "\n",
        "14.  Describe a scenario where a while loop is more suitable than a for loop.\n",
        "\n",
        "   >> A **while loop** is more suitable when the number of iterations is unknown beforehand. For example, reading user input until they enter a valid value or processing data until a condition is met.\n",
        "\n"
      ],
      "metadata": {
        "id": "DyaFFBAlJn2g"
      }
    },
    {
      "cell_type": "markdown",
      "source": [
        "\n",
        "\n",
        "\n",
        "\n",
        "1. Write a Python program to print \"Hello, World!\""
      ],
      "metadata": {
        "id": "sCSf0RwKOxwX"
      }
    },
    {
      "cell_type": "code",
      "source": [
        "print(\"Hello, World!\")"
      ],
      "metadata": {
        "colab": {
          "base_uri": "https://localhost:8080/"
        },
        "id": "RtZU1kNvQNnn",
        "outputId": "c8568844-9293-4076-c0b1-8ed92a7f1f04"
      },
      "execution_count": null,
      "outputs": [
        {
          "output_type": "stream",
          "name": "stdout",
          "text": [
            "Hello, World!\n"
          ]
        }
      ]
    },
    {
      "cell_type": "markdown",
      "source": [
        "   2. Write a Python program that displays your name and age."
      ],
      "metadata": {
        "id": "PxKvh59aQUAf"
      }
    },
    {
      "cell_type": "code",
      "source": [
        "name = \"Krishna Biswas\"\n",
        "name = \"Krishna Biswas\"\n",
        "age = 29\n",
        "\n",
        "print(\"My name is\", name, \"and I am\", age, \"years old.\")"
      ],
      "metadata": {
        "colab": {
          "base_uri": "https://localhost:8080/"
        },
        "id": "dHzUW2gqQi0_",
        "outputId": "fe37eee9-dbe1-4236-eb84-3393b50fbae1"
      },
      "execution_count": null,
      "outputs": [
        {
          "output_type": "stream",
          "name": "stdout",
          "text": [
            "My name is Krishna Biswas and I am 29 years old.\n"
          ]
        }
      ]
    },
    {
      "cell_type": "markdown",
      "source": [
        "   3. Write code to print all the pre-defined keywords in Python using the keyword library."
      ],
      "metadata": {
        "id": "1U3a7BhcQm7_"
      }
    },
    {
      "cell_type": "code",
      "source": [
        "import keyword\n",
        "keyword.kwlist"
      ],
      "metadata": {
        "colab": {
          "base_uri": "https://localhost:8080/"
        },
        "id": "am0auqYwSBZP",
        "outputId": "b37a9fb9-44a5-42d0-aae9-8e38b1f24b54"
      },
      "execution_count": null,
      "outputs": [
        {
          "output_type": "execute_result",
          "data": {
            "text/plain": [
              "['False',\n",
              " 'None',\n",
              " 'True',\n",
              " 'and',\n",
              " 'as',\n",
              " 'assert',\n",
              " 'async',\n",
              " 'await',\n",
              " 'break',\n",
              " 'class',\n",
              " 'continue',\n",
              " 'def',\n",
              " 'del',\n",
              " 'elif',\n",
              " 'else',\n",
              " 'except',\n",
              " 'finally',\n",
              " 'for',\n",
              " 'from',\n",
              " 'global',\n",
              " 'if',\n",
              " 'import',\n",
              " 'in',\n",
              " 'is',\n",
              " 'lambda',\n",
              " 'nonlocal',\n",
              " 'not',\n",
              " 'or',\n",
              " 'pass',\n",
              " 'raise',\n",
              " 'return',\n",
              " 'try',\n",
              " 'while',\n",
              " 'with',\n",
              " 'yield']"
            ]
          },
          "metadata": {},
          "execution_count": 10
        }
      ]
    },
    {
      "cell_type": "markdown",
      "source": [
        "    4. Write a program that checks if a given word is a Python keyword."
      ],
      "metadata": {
        "id": "LcPqTpIXSKzI"
      }
    },
    {
      "cell_type": "code",
      "source": [
        "def is_python_keyword(word):\n",
        "  \"\"\"\n",
        "  Checks if a given word is a Python keyword.\n",
        "\n",
        "  Args:\n",
        "    word: The word to check.\n",
        "\n",
        "  Returns:\n",
        "    True if the word is a Python keyword, False otherwise.\n",
        "  \"\"\"\n",
        "  return word in keyword.kwlist\n",
        "\n",
        "# Example usage:\n",
        "word_to_check = \"for\"\n",
        "if is_python_keyword(word_to_check):\n",
        "  print(f\"'{word_to_check}' is a Python keyword.\")\n",
        "else:\n",
        "  print(f\"'{word_to_check}' is not a Python keyword.\")\n",
        "\n",
        "word_to_check = \"my_variable\"\n",
        "if is_python_keyword(word_to_check):\n",
        "  print(f\"'{word_to_check}' is a Python keyword.\")\n",
        "else:\n",
        "  print(f\"'{word_to_check}' is not a Python keyword.\")"
      ],
      "metadata": {
        "colab": {
          "base_uri": "https://localhost:8080/"
        },
        "id": "X2F9v3pySoyY",
        "outputId": "dd81ee7f-9497-44ea-e352-60c52c1e3e1b"
      },
      "execution_count": null,
      "outputs": [
        {
          "output_type": "stream",
          "name": "stdout",
          "text": [
            "'for' is a Python keyword.\n",
            "'my_variable' is not a Python keyword.\n"
          ]
        }
      ]
    },
    {
      "cell_type": "markdown",
      "source": [
        "   5. Create a list and tuple in Python, and demonstrate how attempting to change an element works differently for each."
      ],
      "metadata": {
        "id": "z5SoFgxfS1H_"
      }
    },
    {
      "cell_type": "code",
      "source": [
        "# Create a list\n",
        "my_list = [1, 2, 3, 4, 5]\n",
        "print(\"Original list:\", my_list)\n",
        "\n",
        "# Attempt to change an element in the list\n",
        "try:\n",
        "  my_list[2] = 10\n",
        "  print(\"List after changing element:\", my_list)\n",
        "except TypeError as e:\n",
        "  print(\"Error changing element in list:\", e)\n",
        "\n",
        "\n",
        "# Create a tuple\n",
        "my_tuple = (1, 2, 3, 4, 5)\n",
        "print(\"\\nOriginal tuple:\", my_tuple)\n",
        "\n",
        "# Attempt to change an element in the tuple\n",
        "try:\n",
        "  my_tuple[2] = 10\n",
        "except TypeError as e:\n",
        "  print(\"Error changing element in tuple:\", e)\n",
        "\n",
        "print(\"Tuple remains unchanged:\", my_tuple)"
      ],
      "metadata": {
        "colab": {
          "base_uri": "https://localhost:8080/"
        },
        "id": "JzzDRdNjTS4f",
        "outputId": "d11a71fb-6bf2-4340-97cf-463e4cdcbc1e"
      },
      "execution_count": null,
      "outputs": [
        {
          "output_type": "stream",
          "name": "stdout",
          "text": [
            "Original list: [1, 2, 3, 4, 5]\n",
            "List after changing element: [1, 2, 10, 4, 5]\n",
            "\n",
            "Original tuple: (1, 2, 3, 4, 5)\n",
            "Error changing element in tuple: 'tuple' object does not support item assignment\n",
            "Tuple remains unchanged: (1, 2, 3, 4, 5)\n"
          ]
        }
      ]
    },
    {
      "cell_type": "markdown",
      "source": [
        "    6. Write a function to demonstrate the behavior of mutable and immutable arguments."
      ],
      "metadata": {
        "id": "YX3eEtthTbRo"
      }
    },
    {
      "cell_type": "code",
      "source": [
        "def modify_mutable(my_list):\n",
        "  \"\"\"Modifies a mutable argument (list) in place.\"\"\"\n",
        "  my_list.append(4)\n",
        "  print(\"Inside function (mutable):\", my_list)\n",
        "\n",
        "def modify_immutable(my_string):\n",
        "  \"\"\"Attempts to modify an immutable argument (string).\"\"\"\n",
        "  my_string = my_string + \" world\"\n",
        "  print(\"Inside function (immutable):\", my_string)\n",
        "\n",
        "mutable_list = [1, 2, 3]\n",
        "print(\"Before function call (mutable):\", mutable_list)\n",
        "modify_mutable(mutable_list)\n",
        "print(\"After function call (mutable):\", mutable_list)\n",
        "\n",
        "immutable_string = \"hello\"\n",
        "print(\"\\nBefore function call (immutable):\", immutable_string)\n",
        "modify_immutable(immutable_string)\n",
        "print(\"After function call (immutable):\", immutable_string)"
      ],
      "metadata": {
        "colab": {
          "base_uri": "https://localhost:8080/"
        },
        "id": "nHH7wU7JTuG3",
        "outputId": "0ba20c20-27a1-463f-80c5-f1b1cdc43e2c"
      },
      "execution_count": null,
      "outputs": [
        {
          "output_type": "stream",
          "name": "stdout",
          "text": [
            "Before function call (mutable): [1, 2, 3]\n",
            "Inside function (mutable): [1, 2, 3, 4]\n",
            "After function call (mutable): [1, 2, 3, 4]\n",
            "\n",
            "Before function call (immutable): hello\n",
            "Inside function (immutable): hello world\n",
            "After function call (immutable): hello\n"
          ]
        }
      ]
    },
    {
      "cell_type": "markdown",
      "source": [
        "    7. Write a function to demonstrate the behavior of mutable and immutable arguments."
      ],
      "metadata": {
        "id": "Ee1_cXSaT3v3"
      }
    },
    {
      "cell_type": "code",
      "source": [
        "def demonstrate_mutable_immutable(mutable_arg, immutable_arg):\n",
        "  \"\"\"\n",
        "  Demonstrates the behavior of mutable and immutable arguments.\n",
        "\n",
        "  Args:\n",
        "    mutable_arg: A mutable object (e.g., list).\n",
        "    immutable_arg: An immutable object (e.g., string, int, tuple).\n",
        "  \"\"\"\n",
        "  print(\"Inside function - Initial state:\")\n",
        "  print(f\"  Mutable argument ID: {id(mutable_arg)}, Value: {mutable_arg}\")\n",
        "  print(f\"  Immutable argument ID: {id(immutable_arg)}, Value: {immutable_arg}\")\n",
        "\n",
        "  if isinstance(mutable_arg, list):\n",
        "      mutable_arg.append(\"modified\")\n",
        "  elif isinstance(mutable_arg, dict):\n",
        "      mutable_arg[\"new_key\"] = \"modified_value\"\n",
        "\n",
        "  if isinstance(immutable_arg, str):\n",
        "      immutable_arg = immutable_arg + \" modified\"\n",
        "  elif isinstance(immutable_arg, int):\n",
        "      immutable_arg = immutable_arg + 10\n",
        "\n",
        "  print(\"Inside function - After attempted modification:\")\n",
        "  print(f\"  Mutable argument ID: {id(mutable_arg)}, Value: {mutable_arg}\")\n",
        "  print(f\"  Immutable argument ID: {id(immutable_arg)}, Value: {immutable_arg}\")\n",
        "\n",
        "\n",
        "my_list = [1, 2, 3]\n",
        "my_string = \"original\"\n",
        "my_int = 10\n",
        "\n",
        "print(\"Before function call:\")\n",
        "print(f\"  Mutable object ID: {id(my_list)}, Value: {my_list}\")\n",
        "print(f\"  Immutable object ID: {id(my_string)}, Value: {my_string}\")\n",
        "print(f\"  Immutable object ID: {id(my_int)}, Value: {my_int}\")\n",
        "print(\"-\" * 30)\n",
        "\n",
        "demonstrate_mutable_immutable(my_list, my_string)\n",
        "demonstrate_mutable_immutable(my_list, my_int)\n",
        "\n",
        "print(\"-\" * 30)\n",
        "print(\"After function call:\")\n",
        "print(f\"  Mutable object ID: {id(my_list)}, Value: {my_list}\")\n",
        "print(f\"  Immutable object ID: {id(my_string)}, Value: {my_string}\")\n",
        "print(f\"  Immutable object ID: {id(my_int)}, Value: {my_int}\")"
      ],
      "metadata": {
        "colab": {
          "base_uri": "https://localhost:8080/"
        },
        "id": "nC7NAvl-UN5n",
        "outputId": "3fd998b2-1296-4b90-f3c8-5aff7c9abc44"
      },
      "execution_count": null,
      "outputs": [
        {
          "output_type": "stream",
          "name": "stdout",
          "text": [
            "Before function call:\n",
            "  Mutable object ID: 136872903449216, Value: [1, 2, 3]\n",
            "  Immutable object ID: 136873341620656, Value: original\n",
            "  Immutable object ID: 10758024, Value: 10\n",
            "------------------------------\n",
            "Inside function - Initial state:\n",
            "  Mutable argument ID: 136872903449216, Value: [1, 2, 3]\n",
            "  Immutable argument ID: 136873341620656, Value: original\n",
            "Inside function - After attempted modification:\n",
            "  Mutable argument ID: 136872903449216, Value: [1, 2, 3, 'modified']\n",
            "  Immutable argument ID: 136872628878784, Value: original modified\n",
            "Inside function - Initial state:\n",
            "  Mutable argument ID: 136872903449216, Value: [1, 2, 3, 'modified']\n",
            "  Immutable argument ID: 10758024, Value: 10\n",
            "Inside function - After attempted modification:\n",
            "  Mutable argument ID: 136872903449216, Value: [1, 2, 3, 'modified', 'modified']\n",
            "  Immutable argument ID: 10758344, Value: 20\n",
            "------------------------------\n",
            "After function call:\n",
            "  Mutable object ID: 136872903449216, Value: [1, 2, 3, 'modified', 'modified']\n",
            "  Immutable object ID: 136873341620656, Value: original\n",
            "  Immutable object ID: 10758024, Value: 10\n"
          ]
        }
      ]
    },
    {
      "cell_type": "markdown",
      "source": [
        "    8. Write a program to demonstrate the use of logical operators."
      ],
      "metadata": {
        "id": "A1Z_AzHPUepv"
      }
    },
    {
      "cell_type": "code",
      "source": [
        "x = 10\n",
        "y = 5\n",
        "z = 15\n",
        "\n",
        "# Using 'and' operator\n",
        "print(\"Using 'and' operator:\")\n",
        "print(f\"Is x > y and y < z? {x > y and y < z}\")\n",
        "print(f\"Is x < y and y < z? {x < y and y < z}\")\n",
        "print(\"-\" * 20)\n",
        "\n",
        "# Using 'or' operator\n",
        "print(\"Using 'or' operator:\")\n",
        "print(f\"Is x < y or y < z? {x < y or y < z}\")\n",
        "print(f\"Is x > y or y > z? {x > y or y > z}\")\n",
        "print(f\"Is x < y or y > z? {x < y or y > z}\")\n",
        "print(\"-\" * 20)\n",
        "\n",
        "# Using 'not' operator\n",
        "print(\"Using 'not' operator:\")\n",
        "print(f\"Is not (x > y)? {not (x > y)}\")\n",
        "print(f\"Is not (x < y)? {not (x < y)}\")\n",
        "print(\"-\" * 20)\n",
        "\n",
        "# Combining logical operators\n",
        "print(\"Combining logical operators:\")\n",
        "print(f\"Is (x > y and y < z) or (x < y)? {(x > y and y < z) or (x < y)}\")\n",
        "print(f\"Is not (x > y and y > z)? {not (x > y and y > z)}\")\n"
      ],
      "metadata": {
        "colab": {
          "base_uri": "https://localhost:8080/"
        },
        "id": "HcaCFDP3VOAX",
        "outputId": "db91e024-81fd-4d94-9729-815e6602cf95"
      },
      "execution_count": null,
      "outputs": [
        {
          "output_type": "stream",
          "name": "stdout",
          "text": [
            "Using 'and' operator:\n",
            "Is x > y and y < z? True\n",
            "Is x < y and y < z? False\n",
            "--------------------\n",
            "Using 'or' operator:\n",
            "Is x < y or y < z? True\n",
            "Is x > y or y > z? True\n",
            "Is x < y or y > z? False\n",
            "--------------------\n",
            "Using 'not' operator:\n",
            "Is not (x > y)? False\n",
            "Is not (x < y)? True\n",
            "--------------------\n",
            "Combining logical operators:\n",
            "Is (x > y and y < z) or (x < y)? True\n",
            "Is not (x > y and y > z)? True\n"
          ]
        }
      ]
    },
    {
      "cell_type": "markdown",
      "source": [
        "   9. Write a Python program to convert user input from string to integer, float, and boolean types."
      ],
      "metadata": {
        "id": "vVmICAXOVeDX"
      }
    },
    {
      "cell_type": "code",
      "source": [
        "user_input_str = input(\"Enter a value: \")\n",
        "\n",
        "# Convert to integer\n",
        "try:\n",
        "  user_int = int(user_input_str)\n",
        "  print(f\"Converted to integer: {user_int} (Type: {type(user_int)})\")\n",
        "except ValueError:\n",
        "  print(f\"Could not convert '{user_input_str}' to integer.\")\n",
        "\n",
        "# Convert to float\n",
        "try:\n",
        "  user_float = float(user_input_str)\n",
        "  print(f\"Converted to float: {user_float} (Type: {type(user_float)})\")\n",
        "except ValueError:\n",
        "  print(f\"Could not convert '{user_input_str}' to float.\")\n",
        "\n",
        "\n",
        "user_bool = None\n",
        "if user_input_str.lower() == 'true':\n",
        "  user_bool = True\n",
        "  print(f\"Converted to boolean: {user_bool} (Type: {type(user_bool)})\")\n",
        "elif user_input_str.lower() == 'false':\n",
        "  user_bool = False\n",
        "  print(f\"Converted to boolean: {user_bool} (Type: {type(user_bool)})\")\n",
        "else:\n",
        "  print(f\"Could not convert '{user_input_str}' to a simple boolean (True/False).\")\n"
      ],
      "metadata": {
        "colab": {
          "base_uri": "https://localhost:8080/"
        },
        "id": "DU0qnisdVyOG",
        "outputId": "acc8b511-e66c-4fc1-e50f-6c2c9cf7fa94"
      },
      "execution_count": null,
      "outputs": [
        {
          "output_type": "stream",
          "name": "stdout",
          "text": [
            "Enter a value: 5\n",
            "Converted to integer: 5 (Type: <class 'int'>)\n",
            "Converted to float: 5.0 (Type: <class 'float'>)\n",
            "Could not convert '5' to a simple boolean (True/False).\n"
          ]
        }
      ]
    },
    {
      "cell_type": "markdown",
      "source": [
        "   10. Write code to demonstrate type casting with list elements."
      ],
      "metadata": {
        "id": "czHviaE7WAFX"
      }
    },
    {
      "cell_type": "code",
      "source": [
        "my_list = [\"123\", 45.67, True, \"89\", 10]\n",
        "print(\"Original list:\", my_list)\n",
        "print(\"Types of elements:\", [type(x) for x in my_list])\n",
        "\n",
        "# Type casting list elements\n",
        "casted_list = []\n",
        "for item in my_list:\n",
        "  try:\n",
        "    # Attempt to cast to integer first\n",
        "    casted_item = int(item)\n",
        "  except (ValueError, TypeError):\n",
        "    try:\n",
        "      # If int fails, attempt to cast to float\n",
        "      casted_item = float(item)\n",
        "    except (ValueError, TypeError):\n",
        "      # If float fails, keep the original item\n",
        "      casted_item = item\n",
        "  casted_list.append(casted_item)\n",
        "\n",
        "print(\"\\nList after type casting:\")\n",
        "print(casted_list)\n",
        "print(\"Types of elements after casting:\", [type(x) for x in casted_list])\n",
        "\n",
        "another_list = [\"100\", \"200\", \"300\"]\n",
        "print(\"\\nOriginal list (strings):\", another_list)\n",
        "int_list = [int(x) for x in another_list]\n",
        "print(\"List after casting to integers:\", int_list)\n",
        "print(\"Types of elements:\", [type(x) for x in int_list])\n",
        "\n",
        "float_list = [float(x) for x in another_list]\n",
        "print(\"List after casting to floats:\", float_list)\n",
        "print(\"Types of elements:\", [type(x) for x in float_list])"
      ],
      "metadata": {
        "colab": {
          "base_uri": "https://localhost:8080/"
        },
        "id": "8z0Y0i85WUkv",
        "outputId": "399cf8ac-1d86-4107-abf7-dc74a2a1db95"
      },
      "execution_count": null,
      "outputs": [
        {
          "output_type": "stream",
          "name": "stdout",
          "text": [
            "Original list: ['123', 45.67, True, '89', 10]\n",
            "Types of elements: [<class 'str'>, <class 'float'>, <class 'bool'>, <class 'str'>, <class 'int'>]\n",
            "\n",
            "List after type casting:\n",
            "[123, 45, 1, 89, 10]\n",
            "Types of elements after casting: [<class 'int'>, <class 'int'>, <class 'int'>, <class 'int'>, <class 'int'>]\n",
            "\n",
            "Original list (strings): ['100', '200', '300']\n",
            "List after casting to integers: [100, 200, 300]\n",
            "Types of elements: [<class 'int'>, <class 'int'>, <class 'int'>]\n",
            "List after casting to floats: [100.0, 200.0, 300.0]\n",
            "Types of elements: [<class 'float'>, <class 'float'>, <class 'float'>]\n"
          ]
        }
      ]
    },
    {
      "cell_type": "markdown",
      "source": [
        "   11. Write a program that checks if a number is positive, negative, or zero."
      ],
      "metadata": {
        "id": "Q8HLJmA6Wi4w"
      }
    },
    {
      "cell_type": "code",
      "source": [
        "number = float(input(\"Enter a number: \"))\n",
        "\n",
        "if number > 0:\n",
        "  print(\"The number is positive.\")\n",
        "elif number < 0:\n",
        "  print(\"The number is negative.\")\n",
        "else:\n",
        "  print(\"The number is zero.\")"
      ],
      "metadata": {
        "colab": {
          "base_uri": "https://localhost:8080/"
        },
        "id": "hCCMUQsDWuRf",
        "outputId": "c78a575b-715e-4984-8754-3602ae05da3b"
      },
      "execution_count": null,
      "outputs": [
        {
          "output_type": "stream",
          "name": "stdout",
          "text": [
            "Enter a number: 6\n",
            "The number is positive.\n"
          ]
        }
      ]
    },
    {
      "cell_type": "markdown",
      "source": [
        "    12. Write a for loop to print numbers from 1 to 100."
      ],
      "metadata": {
        "id": "CZf44B4jWz_v"
      }
    },
    {
      "cell_type": "code",
      "source": [
        "for i in range(1, 101):\n",
        "    print(i)\n"
      ],
      "metadata": {
        "colab": {
          "base_uri": "https://localhost:8080/"
        },
        "id": "P-FPhYjqW_Qv",
        "outputId": "444bc44a-f52e-4134-9746-072fedd183b8"
      },
      "execution_count": null,
      "outputs": [
        {
          "output_type": "stream",
          "name": "stdout",
          "text": [
            "1\n",
            "2\n",
            "3\n",
            "4\n",
            "5\n",
            "6\n",
            "7\n",
            "8\n",
            "9\n",
            "10\n",
            "11\n",
            "12\n",
            "13\n",
            "14\n",
            "15\n",
            "16\n",
            "17\n",
            "18\n",
            "19\n",
            "20\n",
            "21\n",
            "22\n",
            "23\n",
            "24\n",
            "25\n",
            "26\n",
            "27\n",
            "28\n",
            "29\n",
            "30\n",
            "31\n",
            "32\n",
            "33\n",
            "34\n",
            "35\n",
            "36\n",
            "37\n",
            "38\n",
            "39\n",
            "40\n",
            "41\n",
            "42\n",
            "43\n",
            "44\n",
            "45\n",
            "46\n",
            "47\n",
            "48\n",
            "49\n",
            "50\n",
            "51\n",
            "52\n",
            "53\n",
            "54\n",
            "55\n",
            "56\n",
            "57\n",
            "58\n",
            "59\n",
            "60\n",
            "61\n",
            "62\n",
            "63\n",
            "64\n",
            "65\n",
            "66\n",
            "67\n",
            "68\n",
            "69\n",
            "70\n",
            "71\n",
            "72\n",
            "73\n",
            "74\n",
            "75\n",
            "76\n",
            "77\n",
            "78\n",
            "79\n",
            "80\n",
            "81\n",
            "82\n",
            "83\n",
            "84\n",
            "85\n",
            "86\n",
            "87\n",
            "88\n",
            "89\n",
            "90\n",
            "91\n",
            "92\n",
            "93\n",
            "94\n",
            "95\n",
            "96\n",
            "97\n",
            "98\n",
            "99\n",
            "100\n"
          ]
        }
      ]
    },
    {
      "cell_type": "markdown",
      "source": [
        "    13. Write a Python program to find the sum of all even numbers between 1 and 500."
      ],
      "metadata": {
        "id": "lBnihhWzXZp3"
      }
    },
    {
      "cell_type": "code",
      "source": [
        "sum_even = 0\n",
        "for i in range(2, 501, 2):\n",
        "    sum_even += i\n",
        "print(\"The sum of all even numbers between 1 and 500 is:\", sum_even)"
      ],
      "metadata": {
        "colab": {
          "base_uri": "https://localhost:8080/"
        },
        "id": "BH9HivcNXpxf",
        "outputId": "c9ddfb11-6012-4312-d610-4c14b2ef6b27"
      },
      "execution_count": null,
      "outputs": [
        {
          "output_type": "stream",
          "name": "stdout",
          "text": [
            "The sum of all even numbers between 1 and 500 is: 62750\n"
          ]
        }
      ]
    },
    {
      "cell_type": "markdown",
      "source": [
        "   14.  Write a program to reverse a string using a while loop."
      ],
      "metadata": {
        "id": "4RGocaEiXwC_"
      }
    },
    {
      "cell_type": "code",
      "source": [
        "def reverse_string_while(input_string):\n",
        "  \"\"\"\n",
        "  Reverses a string using a while loop.\n",
        "\n",
        "  Args:\n",
        "    input_string: The string to reverse.\n",
        "\n",
        "  Returns:\n",
        "    The reversed string.\n",
        "  \"\"\"\n",
        "  reversed_string = \"\"\n",
        "  index = len(input_string) - 1\n",
        "  while index >= 0:\n",
        "    reversed_string += input_string[index]\n",
        "    index -= 1\n",
        "  return reversed_string\n",
        "\n",
        "# Example usage:\n",
        "my_string = \"hello world\"\n",
        "reversed_string = reverse_string_while(my_string)\n",
        "print(f\"Original string: {my_string}\")\n",
        "print(f\"Reversed string: {reversed_string}\")"
      ],
      "metadata": {
        "colab": {
          "base_uri": "https://localhost:8080/"
        },
        "id": "hc-tCOL-X8-v",
        "outputId": "075f736f-ef79-4b4c-d0de-3072b53ee315"
      },
      "execution_count": null,
      "outputs": [
        {
          "output_type": "stream",
          "name": "stdout",
          "text": [
            "Original string: hello world\n",
            "Reversed string: dlrow olleh\n"
          ]
        }
      ]
    },
    {
      "cell_type": "markdown",
      "source": [
        "    15. Write a Python program to calculate the factorial of a number provided by the user using a while loop."
      ],
      "metadata": {
        "id": "g1GtGgFpYIRv"
      }
    },
    {
      "cell_type": "code",
      "source": [
        "number = int(input(\"Enter a non-negative integer to calculate its factorial: \"))\n",
        "\n",
        "if number < 0:\n",
        "  print(\"Factorial is not defined for negative numbers.\")\n",
        "elif number == 0:\n",
        "  print(\"The factorial of 0 is 1.\")\n",
        "else:\n",
        "  factorial = 1\n",
        "  count = 1\n",
        "  while count <= number:\n",
        "    factorial *= count\n",
        "    count += 1\n",
        "  print(f\"The factorial of {number} is {factorial}\")"
      ],
      "metadata": {
        "colab": {
          "base_uri": "https://localhost:8080/"
        },
        "id": "LGzCehEsYcrf",
        "outputId": "8b9c9ef9-113e-4e4c-eba5-70b5655dd9b5"
      },
      "execution_count": null,
      "outputs": [
        {
          "output_type": "stream",
          "name": "stdout",
          "text": [
            "Enter a non-negative integer to calculate its factorial: 6\n",
            "The factorial of 6 is 720\n"
          ]
        }
      ]
    }
  ],
  "metadata": {
    "colab": {
      "toc_visible": true,
      "provenance": []
    },
    "kernelspec": {
      "display_name": "Python 3",
      "name": "python3"
    }
  },
  "nbformat": 4,
  "nbformat_minor": 0
}